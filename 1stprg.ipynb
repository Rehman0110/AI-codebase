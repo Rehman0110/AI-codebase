{
 "cells": [
  {
   "cell_type": "code",
   "execution_count": 2,
   "id": "853a9fb8",
   "metadata": {},
   "outputs": [
    {
     "name": "stdout",
     "output_type": "stream",
     "text": [
      "=== Welcome to the Car Diagnostic System ===\n",
      "Please answer the following questions by typing 1 for 'Yes' and 2 for 'No'.\n",
      "Does the car start?\n",
      "1. Yes\n",
      "2. No\n",
      "Does the car stall frequently?\n",
      "1. Yes\n",
      "2. No\n",
      "Is the engine idle rough?\n",
      "1. Yes\n",
      "2. No\n",
      "\n",
      "Diagnosis: Spark plug problem\n"
     ]
    }
   ],
   "source": [
    "print(\"=== Welcome to the Car Diagnostic System ===\")\n",
    "print(\"Please answer the following questions by typing 1 for 'Yes' and 2 for 'No'.\")\n",
    "\n",
    "# Helper function to get clean input (1 or 2 only)\n",
    "def ask(question):\n",
    "    while True:\n",
    "        print(question)\n",
    "        print(\"1. Yes\")\n",
    "        print(\"2. No\")\n",
    "        choice = input(\"Your choice: \").strip()\n",
    "        if choice == \"1\":\n",
    "            return True\n",
    "        elif choice == \"2\":\n",
    "            return False\n",
    "        else:\n",
    "            print(\"Please enter 1 for Yes or 2 for No.\\n\")\n",
    "\n",
    "# Start diagnosis\n",
    "if not ask(\"Does the car start?\"):\n",
    "    if ask(\"Are the lights dim?\"):\n",
    "        print(\"\\nDiagnosis: Battery is dead\")\n",
    "    else:\n",
    "        if ask(\"Does the radio work?\") and ask(\"Are the lights bright?\"):\n",
    "            print(\"\\nDiagnosis: Starter motor issue\")\n",
    "        else:\n",
    "            if ask(\"Does the engine crank?\"):\n",
    "                if ask(\"Do you smell fuel?\"):\n",
    "                    print(\"\\nDiagnosis: Engine is flooded\")\n",
    "                elif not ask(\"Do you smell fuel?\"):\n",
    "                    print(\"\\nDiagnosis: Fuel pump failure\")\n",
    "                else:\n",
    "                    print(\"\\nDiagnosis: Could not determine the issue\")\n",
    "            else:\n",
    "                print(\"\\nDiagnosis: Could not determine the issue\")\n",
    "else:\n",
    "    if ask(\"Does the car stall frequently?\") and ask(\"Is the engine idle rough?\"):\n",
    "        print(\"\\nDiagnosis: Spark plug problem\")\n",
    "    else:\n",
    "        print(\"\\nThe car seems to be working fine, or the issue is unknown.\")\n"
   ]
  }
 ],
 "metadata": {
  "kernelspec": {
   "display_name": "Python 3.12.6 (myvenv)",
   "language": "python",
   "name": "myvenv"
  },
  "language_info": {
   "codemirror_mode": {
    "name": "ipython",
    "version": 3
   },
   "file_extension": ".py",
   "mimetype": "text/x-python",
   "name": "python",
   "nbconvert_exporter": "python",
   "pygments_lexer": "ipython3",
   "version": "3.12.6"
  }
 },
 "nbformat": 4,
 "nbformat_minor": 5
}
