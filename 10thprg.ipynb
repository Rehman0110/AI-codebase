{
 "cells": [
  {
   "cell_type": "code",
   "execution_count": 1,
   "id": "c703d939",
   "metadata": {},
   "outputs": [
    {
     "name": "stdout",
     "output_type": "stream",
     "text": [
      "🔍 Word-Level Semantic and Syntactic Information:\n",
      "\n",
      "Text: Google          | POS: PROPN      | Dependency: nsubj           | Head: acquired\n",
      "Text: acquired        | POS: VERB       | Dependency: ROOT            | Head: acquired\n",
      "Text: DeepMind        | POS: PROPN      | Dependency: dobj            | Head: acquired\n",
      "Text: in              | POS: ADP        | Dependency: prep            | Head: acquired\n",
      "Text: 2014            | POS: NUM        | Dependency: pobj            | Head: in\n",
      "Text: for             | POS: ADP        | Dependency: prep            | Head: acquired\n",
      "Text: developing      | POS: VERB       | Dependency: pcomp           | Head: for\n",
      "Text: artificial      | POS: ADJ        | Dependency: amod            | Head: intelligence\n",
      "Text: intelligence    | POS: NOUN       | Dependency: dobj            | Head: developing\n",
      "Text: .               | POS: PUNCT      | Dependency: punct           | Head: acquired\n",
      "\n",
      "🏷️ Named Entities (Real-world concepts recognized):\n",
      "\n",
      "Entity: Google                    | Label: ORG | Explanation: Companies, agencies, institutions, etc.\n",
      "Entity: DeepMind                  | Label: ORG | Explanation: Companies, agencies, institutions, etc.\n",
      "Entity: 2014                      | Label: DATE | Explanation: Absolute or relative dates or periods\n",
      "\n",
      "🔗 Semantic Roles (Who did what to whom?):\n",
      "\n",
      "Action: acquired\n",
      "Subject(s): ['Google']\n",
      "Object(s): ['DeepMind']\n"
     ]
    }
   ],
   "source": [
    "# Install spacy if not already installed (uncomment the next line if needed)\n",
    "\n",
    "# pip install spacy\n",
    "# python -m spacy download en_core_web_sm\n",
    "\n",
    "import spacy\n",
    "\n",
    "# Load a small English language model that contains vocabulary, syntax, and NER\n",
    "nlp = spacy.load(\"en_core_web_sm\")\n",
    "\n",
    "# Input sentence (can be from chatbot, search, email, etc.)\n",
    "text = \"Google acquired DeepMind in 2014 for developing artificial intelligence.\"\n",
    "\n",
    "# Step 1: Process the text using the NLP pipeline\n",
    "doc = nlp(text)\n",
    "\n",
    "# Step 2: Print each word and its Part-of-Speech (POS) tag and dependency relation\n",
    "print(\"🔍 Word-Level Semantic and Syntactic Information:\\n\")\n",
    "for token in doc:\n",
    "    print(f\"Text: {token.text:15} | POS: {token.pos_:10} | Dependency: {token.dep_:15} | Head: {token.head.text}\")\n",
    "\n",
    "# Step 3: Named Entity Recognition (NER)\n",
    "print(\"\\n🏷️ Named Entities (Real-world concepts recognized):\\n\")\n",
    "for ent in doc.ents:\n",
    "    print(f\"Entity: {ent.text:25} | Label: {ent.label_} | Explanation: {spacy.explain(ent.label_)}\")\n",
    "\n",
    "# Step 4: Print root verb and its subject and object — basic semantic role labeling\n",
    "print(\"\\n🔗 Semantic Roles (Who did what to whom?):\\n\")\n",
    "for token in doc:\n",
    "    if token.dep_ == \"ROOT\":  # main verb\n",
    "        subject = [w for w in token.lefts if w.dep_ in (\"nsubj\", \"nsubjpass\")]\n",
    "        obj = [w for w in token.rights if w.dep_ in (\"dobj\", \"pobj\")]\n",
    "        print(f\"Action: {token.text}\")\n",
    "        print(f\"Subject(s): {[w.text for w in subject]}\")\n",
    "        print(f\"Object(s): {[w.text for w in obj]}\")\n"
   ]
  }
 ],
 "metadata": {
  "kernelspec": {
   "display_name": "Python 3.12.6 (myvenv)",
   "language": "python",
   "name": "myvenv"
  },
  "language_info": {
   "codemirror_mode": {
    "name": "ipython",
    "version": 3
   },
   "file_extension": ".py",
   "mimetype": "text/x-python",
   "name": "python",
   "nbconvert_exporter": "python",
   "pygments_lexer": "ipython3",
   "version": "3.12.6"
  }
 },
 "nbformat": 4,
 "nbformat_minor": 5
}
