{
 "cells": [
  {
   "cell_type": "code",
   "execution_count": 1,
   "id": "a9fd7b11",
   "metadata": {},
   "outputs": [
    {
     "name": "stdout",
     "output_type": "stream",
     "text": [
      "Predicted labels: [0 0 0]\n",
      "Actual labels:    [0, 1, 0]\n",
      "Accuracy:         0.6666666666666666\n",
      "Prediction for new email: Spam\n",
      "\n",
      "Example of break in loop:\n",
      "Current Letter: P\n",
      "Current Letter: y\n",
      "Current Letter: t\n"
     ]
    }
   ],
   "source": [
    "from sklearn.feature_extraction.text import CountVectorizer\n",
    "from sklearn.naive_bayes import MultinomialNB\n",
    "from sklearn.model_selection import train_test_split\n",
    "from sklearn.metrics import accuracy_score\n",
    "\n",
    "# 1. Sample dataset (text + labels)\n",
    "emails = [\n",
    "    \"Win a lottery now\",  # spam\n",
    "    \"Limited time offer, claim prize\",  # spam\n",
    "    \"You are selected for a free gift\",  # spam\n",
    "    \"Important meeting at 10 AM\",  # not spam\n",
    "    \"Project deadline is tomorrow\",  # not spam\n",
    "    \"Let’s have lunch today\",  # not spam\n",
    "    \"Earn money quickly from home\",  # spam\n",
    "    \"Congratulations, you won a car\",  # spam\n",
    "    \"Team meeting rescheduled\",  # not spam\n",
    "    \"Monthly report attached\",  # not spam\n",
    "]\n",
    "labels = [1, 1, 1, 0, 0, 0, 1, 1, 0, 0]  # 1 = spam, 0 = not spam\n",
    "\n",
    "# 2. Convert text into numeric features\n",
    "vectorizer = CountVectorizer()\n",
    "X = vectorizer.fit_transform(emails)\n",
    "\n",
    "# 3. Split into training and testing\n",
    "X_train, X_test, y_train, y_test = train_test_split(X, labels, test_size=0.3, random_state=42)\n",
    "\n",
    "# 4. Train Naïve Bayes classifier\n",
    "model = MultinomialNB()\n",
    "model.fit(X_train, y_train)\n",
    "\n",
    "# 5. Predict on test data\n",
    "y_pred = model.predict(X_test)\n",
    "\n",
    "# 6. Evaluate\n",
    "print(\"Predicted labels:\", y_pred)\n",
    "print(\"Actual labels:   \", y_test)\n",
    "print(\"Accuracy:        \", accuracy_score(y_test, y_pred))\n",
    "\n",
    "# 7. Try a new email\n",
    "new_email = [\"Congratulations! You have won a free iPhone\"]\n",
    "new_data = vectorizer.transform(new_email)\n",
    "prediction = model.predict(new_data)\n",
    "print(\"Prediction for new email:\", \"Spam\" if prediction[0] == 1 else \"Not Spam\")\n",
    "\n",
    "# 8. Bonus: break in loop example\n",
    "print(\"\\nExample of break in loop:\")\n",
    "for letter in \"Python\":\n",
    "    if letter == \"h\":\n",
    "        break\n",
    "    print(\"Current Letter:\", letter)\n"
   ]
  }
 ],
 "metadata": {
  "kernelspec": {
   "display_name": "Python 3.12.6 (myvenv)",
   "language": "python",
   "name": "myvenv"
  },
  "language_info": {
   "codemirror_mode": {
    "name": "ipython",
    "version": 3
   },
   "file_extension": ".py",
   "mimetype": "text/x-python",
   "name": "python",
   "nbconvert_exporter": "python",
   "pygments_lexer": "ipython3",
   "version": "3.12.6"
  }
 },
 "nbformat": 4,
 "nbformat_minor": 5
}
