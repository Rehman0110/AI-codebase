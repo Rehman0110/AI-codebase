{
 "cells": [
  {
   "cell_type": "code",
   "execution_count": 2,
   "id": "70f9c20e",
   "metadata": {},
   "outputs": [
    {
     "name": "stdout",
     "output_type": "stream",
     "text": [
      "Recommended heating power: 10.00%\n"
     ]
    }
   ],
   "source": [
    "import numpy as np\n",
    "import skfuzzy as fuzz\n",
    "from skfuzzy import control as ctrl\n",
    "\n",
    "# 1. Define fuzzy variables\n",
    "temperature = ctrl.Antecedent(np.arange(0, 41, 1), 'temperature')  # 0 to 40 °C\n",
    "heating_power = ctrl.Consequent(np.arange(0, 101, 1), 'heating_power')  # 0% to 100%\n",
    "\n",
    "# 2. Define membership functions for temperature\n",
    "temperature['cold'] = fuzz.trimf(temperature.universe, [0, 0, 10])\n",
    "temperature['warm'] = fuzz.trimf(temperature.universe, [10, 15, 22])\n",
    "temperature['hot'] = fuzz.trimf(temperature.universe, [20, 30, 40])\n",
    "\n",
    "# 3. Define membership functions for heating power\n",
    "heating_power['low'] = fuzz.trimf(heating_power.universe, [0, 0, 30])\n",
    "heating_power['medium'] = fuzz.trimf(heating_power.universe, [25, 30, 55])\n",
    "heating_power['high'] = fuzz.trimf(heating_power.universe, [50, 70, 90])\n",
    "\n",
    "# 4. Define fuzzy rules\n",
    "rule1 = ctrl.Rule(temperature['cold'], heating_power['high'])\n",
    "rule2 = ctrl.Rule(temperature['warm'], heating_power['medium'])\n",
    "rule3 = ctrl.Rule(temperature['hot'], heating_power['low'])\n",
    "\n",
    "# 5. Create control system\n",
    "heating_ctrl = ctrl.ControlSystem([rule1, rule2, rule3])\n",
    "heating_simulation = ctrl.ControlSystemSimulation(heating_ctrl)\n",
    "\n",
    "# 6. Input current temperature\n",
    "current_temp = float(input(\"Enter current temperature (°C): \"))\n",
    "heating_simulation.input['temperature'] = current_temp\n",
    "\n",
    "# 7. Compute output\n",
    "heating_simulation.compute()\n",
    "\n",
    "# 8. Output result\n",
    "print(f\"Recommended heating power: {heating_simulation.output['heating_power']:.2f}%\")\n"
   ]
  }
 ],
 "metadata": {
  "kernelspec": {
   "display_name": "Python 3.12.6 (myvenv)",
   "language": "python",
   "name": "myvenv"
  },
  "language_info": {
   "codemirror_mode": {
    "name": "ipython",
    "version": 3
   },
   "file_extension": ".py",
   "mimetype": "text/x-python",
   "name": "python",
   "nbconvert_exporter": "python",
   "pygments_lexer": "ipython3",
   "version": "3.12.6"
  }
 },
 "nbformat": 4,
 "nbformat_minor": 5
}
