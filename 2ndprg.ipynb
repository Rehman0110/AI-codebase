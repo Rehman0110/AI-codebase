{
 "cells": [
  {
   "cell_type": "code",
   "execution_count": 2,
   "id": "9db50e08",
   "metadata": {},
   "outputs": [
    {
     "name": "stdout",
     "output_type": "stream",
     "text": [
      "=== Welcome to the Simple Disease Diagnosis System ===\n",
      "Select the symptoms you are experiencing:\n",
      "1. cough\n",
      "2. sore throat\n",
      "3. runny nose\n",
      "4. sneezing\n",
      "5. fever\n",
      "6. body ache\n",
      "7. chills\n",
      "8. loss of taste\n",
      "9. difficulty breathing\n",
      "10. headache\n",
      "11. sweating\n",
      "12. itchy eyes\n",
      "\n",
      "Enter the numbers of your symptoms separated by commas (e.g., 1,3,5):\n",
      "\n",
      "Checking possible diseases...\n",
      "\n",
      "Flu --> matched 1 symptom(s).\n",
      "COVID-19 --> matched 1 symptom(s).\n",
      "Malaria --> matched 1 symptom(s).\n"
     ]
    }
   ],
   "source": [
    "# === Super Simple Disease Diagnosis System with Safe Input ===\n",
    "\n",
    "# Step 1: Store diseases and their symptoms\n",
    "knowledge_graph = {\n",
    "    \"Common Cold\": [\"cough\", \"sore throat\", \"runny nose\", \"sneezing\"],\n",
    "    \"Flu\": [\"fever\", \"cough\", \"body ache\", \"chills\"],\n",
    "    \"COVID-19\": [\"fever\", \"cough\", \"loss of taste\", \"difficulty breathing\"],\n",
    "    \"Malaria\": [\"fever\", \"chills\", \"headache\", \"sweating\"],\n",
    "    \"Allergy\": [\"sneezing\", \"runny nose\", \"itchy eyes\"]\n",
    "}\n",
    "\n",
    "# Step 2: Create a list of all symptoms (no duplicates)\n",
    "all_symptoms = [\n",
    "    \"cough\", \"sore throat\", \"runny nose\", \"sneezing\", \"fever\", \"body ache\",\n",
    "    \"chills\", \"loss of taste\", \"difficulty breathing\", \"headache\", \"sweating\", \"itchy eyes\"\n",
    "]\n",
    "\n",
    "print(\"=== Welcome to the Simple Disease Diagnosis System ===\")\n",
    "print(\"Select the symptoms you are experiencing:\")\n",
    "\n",
    "# Step 3: Show symptoms with numbers\n",
    "for i in range(len(all_symptoms)):\n",
    "    print(str(i + 1) + \". \" + all_symptoms[i])\n",
    "\n",
    "# Step 4: Get input from user\n",
    "print(\"\\nEnter the numbers of your symptoms separated by commas (e.g., 1,3,5):\")\n",
    "user_input = input(\"Your symptoms: \")\n",
    "\n",
    "# Step 5: Convert and validate input\n",
    "selected_symptoms = []\n",
    "numbers = user_input.split(\",\")\n",
    "\n",
    "for n in numbers:\n",
    "    n = n.strip()\n",
    "    if n.isdigit():\n",
    "        index = int(n)\n",
    "        if 1 <= index <= len(all_symptoms):\n",
    "            symptom = all_symptoms[index - 1]\n",
    "            if symptom not in selected_symptoms:\n",
    "                selected_symptoms.append(symptom)\n",
    "\n",
    "# Step 6: Show result or error\n",
    "if len(selected_symptoms) == 0:\n",
    "    print(\"\\nNo valid symptoms selected. Please enter correct numbers only.\")\n",
    "else:\n",
    "    print(\"\\nChecking possible diseases...\\n\")\n",
    "    for disease in knowledge_graph:\n",
    "        disease_symptoms = knowledge_graph[disease]\n",
    "        match_count = 0\n",
    "        for symptom in selected_symptoms:\n",
    "            if symptom in disease_symptoms:\n",
    "                match_count += 1\n",
    "        if match_count > 0:\n",
    "            print(f\"{disease} --> matched {match_count} symptom(s).\")\n"
   ]
  }
 ],
 "metadata": {
  "kernelspec": {
   "display_name": "Python 3.12.6 (myvenv)",
   "language": "python",
   "name": "myvenv"
  },
  "language_info": {
   "codemirror_mode": {
    "name": "ipython",
    "version": 3
   },
   "file_extension": ".py",
   "mimetype": "text/x-python",
   "name": "python",
   "nbconvert_exporter": "python",
   "pygments_lexer": "ipython3",
   "version": "3.12.6"
  }
 },
 "nbformat": 4,
 "nbformat_minor": 5
}
