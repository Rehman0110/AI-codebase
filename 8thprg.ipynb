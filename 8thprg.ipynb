{
 "cells": [
  {
   "cell_type": "code",
   "execution_count": 1,
   "id": "d9096779",
   "metadata": {},
   "outputs": [
    {
     "name": "stdout",
     "output_type": "stream",
     "text": [
      "Mean Squared Error (MSE): 0.32969085375181845\n",
      "R^2 Score: 0.7484061394371723\n",
      "\n",
      "Sample Predictions:\n",
      "     Actual  Predicted\n",
      "0  0.47700   0.496377\n",
      "1  0.45800   1.457899\n",
      "2  5.00001   4.205364\n",
      "3  2.18600   2.428491\n",
      "4  2.78000   2.740178\n",
      "5  1.58700   1.649669\n",
      "6  1.98200   2.566701\n",
      "7  1.57500   1.678622\n",
      "8  3.40000   2.313541\n",
      "9  4.46600   4.679867\n"
     ]
    }
   ],
   "source": [
    "import pandas as pd\n",
    "from sklearn.datasets import fetch_california_housing\n",
    "from sklearn.model_selection import train_test_split\n",
    "from sklearn.preprocessing import StandardScaler\n",
    "from sklearn.svm import SVR\n",
    "from sklearn.metrics import mean_squared_error, r2_score\n",
    "\n",
    "# Load dataset\n",
    "data = fetch_california_housing()\n",
    "X = data.data\n",
    "y = data.target\n",
    "feature_names = data.feature_names\n",
    "\n",
    "# Split and scale data\n",
    "X_train, X_test, y_train, y_test = train_test_split(\n",
    "    X, y, test_size=0.2, random_state=42)\n",
    "\n",
    "scaler_X = StandardScaler()\n",
    "scaler_y = StandardScaler()\n",
    "\n",
    "X_train_scaled = scaler_X.fit_transform(X_train)\n",
    "X_test_scaled = scaler_X.transform(X_test)\n",
    "\n",
    "# Scale target (reshape to 2D for scaler, then flatten)\n",
    "y_train_scaled = scaler_y.fit_transform(y_train.reshape(-1, 1)).ravel()\n",
    "\n",
    "# Train SVR model\n",
    "svr = SVR(kernel='rbf', C=10, gamma=0.1)\n",
    "svr.fit(X_train_scaled, y_train_scaled)\n",
    "\n",
    "# Predict and inverse transform target\n",
    "y_pred_scaled = svr.predict(X_test_scaled)\n",
    "y_pred = scaler_y.inverse_transform(y_pred_scaled.reshape(-1, 1)).ravel()\n",
    "\n",
    "# Evaluation\n",
    "mse = mean_squared_error(y_test, y_pred)\n",
    "r2 = r2_score(y_test, y_pred)\n",
    "\n",
    "# Display results\n",
    "print(\"Mean Squared Error (MSE):\", mse)\n",
    "print(\"R^2 Score:\", r2)\n",
    "\n",
    "# Optional: Compare actual vs predicted values\n",
    "comparison = pd.DataFrame({\n",
    "    'Actual': y_test[:10],\n",
    "    'Predicted': y_pred[:10]\n",
    "})\n",
    "print(\"\\nSample Predictions:\\n\", comparison)\n"
   ]
  }
 ],
 "metadata": {
  "kernelspec": {
   "display_name": "Python 3.12.6 (myvenv)",
   "language": "python",
   "name": "myvenv"
  },
  "language_info": {
   "codemirror_mode": {
    "name": "ipython",
    "version": 3
   },
   "file_extension": ".py",
   "mimetype": "text/x-python",
   "name": "python",
   "nbconvert_exporter": "python",
   "pygments_lexer": "ipython3",
   "version": "3.12.6"
  }
 },
 "nbformat": 4,
 "nbformat_minor": 5
}
